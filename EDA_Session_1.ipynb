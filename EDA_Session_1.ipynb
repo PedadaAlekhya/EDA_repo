{
 "cells": [
  {
   "cell_type": "code",
   "execution_count": null,
   "id": "1b80d086-e026-4c2f-8184-af0c066cf510",
   "metadata": {},
   "outputs": [],
   "source": [
    "============== Packages for EDA ================\n",
    "1) Pandaas : Data frame applications\n",
    "\n",
    "\n",
    "2) Numpy : Numerical python All math applications\n",
    "\n",
    "3) Matplotlib : used for plotting\n",
    "\n",
    "4) Seaborn : used for plotting\n",
    "\n",
    "5) Plotly : used for plotting\n",
    "\n",
    "6) Bokhe : used for plotting\n",
    "\n",
    "================== Packages for Machine Learning =================\n",
    "7) Sickit-learn : sklearn\n",
    "\n",
    "================ Deep Learning ==================\n",
    "8) Tensorflow : (developed by) Google\n",
    "\n",
    "9) Keras : Google\n",
    "\n",
    "10) Pytorch : Facebook\n",
    "\n",
    "==================== NLP ===============\n",
    "11) NLTK : Natural Language Tool Kit\n",
    "\n",
    "12) Scipy\n",
    "\n",
    "==================== BERT ===============\n",
    "13) Transformers : developed by \"Hugging face\" (Handovered by Google)\n",
    "\n",
    "==================== Google Models ===============\n",
    "14) Specific Google Packages\n",
    "\n",
    "==================== Azure ML ==============\n",
    "15) Azure Packages\n",
    "\n",
    "==================== GenAI =================\n",
    "16) Gemini AI : Google\n",
    "\n",
    "17) ChatGPT : OpenAI\n",
    "\n",
    "================= LangChain ================\n",
    "18) LangChain Packages\n"
   ]
  },
  {
   "cell_type": "markdown",
   "id": "9610e6ba-3f68-4337-8b33-9e01e6fb63e4",
   "metadata": {},
   "source": [
    "## Create a data frame usig List ##"
   ]
  },
  {
   "cell_type": "code",
   "execution_count": null,
   "id": "5f999cc4-14ef-4f1c-a46f-4e84362709fa",
   "metadata": {},
   "outputs": [],
   "source": [
    "- list == dictionary\n",
    "\n",
    "- dictionary == list"
   ]
  },
  {
   "cell_type": "markdown",
   "id": "b87ddab6-7a4d-4af9-b885-c3e45904c49d",
   "metadata": {},
   "source": [
    "$Step-1$:\n",
    "\n",
    "**Create a empty data frame**"
   ]
  },
  {
   "cell_type": "code",
   "execution_count": 1,
   "id": "14a2b739-1ef3-4eef-b9c1-ff0ab1ee56b6",
   "metadata": {},
   "outputs": [
    {
     "data": {
      "text/html": [
       "<div>\n",
       "<style scoped>\n",
       "    .dataframe tbody tr th:only-of-type {\n",
       "        vertical-align: middle;\n",
       "    }\n",
       "\n",
       "    .dataframe tbody tr th {\n",
       "        vertical-align: top;\n",
       "    }\n",
       "\n",
       "    .dataframe thead th {\n",
       "        text-align: right;\n",
       "    }\n",
       "</style>\n",
       "<table border=\"1\" class=\"dataframe\">\n",
       "  <thead>\n",
       "    <tr style=\"text-align: right;\">\n",
       "      <th></th>\n",
       "    </tr>\n",
       "  </thead>\n",
       "  <tbody>\n",
       "  </tbody>\n",
       "</table>\n",
       "</div>"
      ],
      "text/plain": [
       "Empty DataFrame\n",
       "Columns: []\n",
       "Index: []"
      ]
     },
     "execution_count": 1,
     "metadata": {},
     "output_type": "execute_result"
    }
   ],
   "source": [
    "import pandas as pd # package for data frame\n",
    "names=['Ayush', 'Avinash', 'Akash']\n",
    "pd.DataFrame()"
   ]
  },
  {
   "cell_type": "code",
   "execution_count": 2,
   "id": "f9269dee-cf52-4674-bba2-b4a8e2571266",
   "metadata": {},
   "outputs": [
    {
     "data": {
      "text/html": [
       "<div>\n",
       "<style scoped>\n",
       "    .dataframe tbody tr th:only-of-type {\n",
       "        vertical-align: middle;\n",
       "    }\n",
       "\n",
       "    .dataframe tbody tr th {\n",
       "        vertical-align: top;\n",
       "    }\n",
       "\n",
       "    .dataframe thead th {\n",
       "        text-align: right;\n",
       "    }\n",
       "</style>\n",
       "<table border=\"1\" class=\"dataframe\">\n",
       "  <thead>\n",
       "    <tr style=\"text-align: right;\">\n",
       "      <th></th>\n",
       "      <th>0</th>\n",
       "    </tr>\n",
       "  </thead>\n",
       "  <tbody>\n",
       "    <tr>\n",
       "      <th>0</th>\n",
       "      <td>Ayush</td>\n",
       "    </tr>\n",
       "    <tr>\n",
       "      <th>1</th>\n",
       "      <td>Avinash</td>\n",
       "    </tr>\n",
       "    <tr>\n",
       "      <th>2</th>\n",
       "      <td>Akash</td>\n",
       "    </tr>\n",
       "  </tbody>\n",
       "</table>\n",
       "</div>"
      ],
      "text/plain": [
       "         0\n",
       "0    Ayush\n",
       "1  Avinash\n",
       "2    Akash"
      ]
     },
     "execution_count": 2,
     "metadata": {},
     "output_type": "execute_result"
    }
   ],
   "source": [
    "names=['Ayush', 'Avinash', 'Akash']\n",
    "pd.DataFrame(names)"
   ]
  },
  {
   "cell_type": "code",
   "execution_count": 4,
   "id": "42ca0993-0130-4972-86a4-6df9f6074048",
   "metadata": {},
   "outputs": [
    {
     "data": {
      "text/html": [
       "<div>\n",
       "<style scoped>\n",
       "    .dataframe tbody tr th:only-of-type {\n",
       "        vertical-align: middle;\n",
       "    }\n",
       "\n",
       "    .dataframe tbody tr th {\n",
       "        vertical-align: top;\n",
       "    }\n",
       "\n",
       "    .dataframe thead th {\n",
       "        text-align: right;\n",
       "    }\n",
       "</style>\n",
       "<table border=\"1\" class=\"dataframe\">\n",
       "  <thead>\n",
       "    <tr style=\"text-align: right;\">\n",
       "      <th></th>\n",
       "      <th>0</th>\n",
       "    </tr>\n",
       "  </thead>\n",
       "  <tbody>\n",
       "    <tr>\n",
       "      <th>0</th>\n",
       "      <td>20</td>\n",
       "    </tr>\n",
       "    <tr>\n",
       "      <th>1</th>\n",
       "      <td>24</td>\n",
       "    </tr>\n",
       "    <tr>\n",
       "      <th>2</th>\n",
       "      <td>26</td>\n",
       "    </tr>\n",
       "  </tbody>\n",
       "</table>\n",
       "</div>"
      ],
      "text/plain": [
       "    0\n",
       "0  20\n",
       "1  24\n",
       "2  26"
      ]
     },
     "execution_count": 4,
     "metadata": {},
     "output_type": "execute_result"
    }
   ],
   "source": [
    "age=[20, 24, 26]\n",
    "pd.DataFrame(age)"
   ]
  },
  {
   "cell_type": "code",
   "execution_count": 6,
   "id": "52faf605-cb52-443c-b241-6cbad9b31bff",
   "metadata": {},
   "outputs": [
    {
     "data": {
      "text/html": [
       "<div>\n",
       "<style scoped>\n",
       "    .dataframe tbody tr th:only-of-type {\n",
       "        vertical-align: middle;\n",
       "    }\n",
       "\n",
       "    .dataframe tbody tr th {\n",
       "        vertical-align: top;\n",
       "    }\n",
       "\n",
       "    .dataframe thead th {\n",
       "        text-align: right;\n",
       "    }\n",
       "</style>\n",
       "<table border=\"1\" class=\"dataframe\">\n",
       "  <thead>\n",
       "    <tr style=\"text-align: right;\">\n",
       "      <th></th>\n",
       "      <th>0</th>\n",
       "    </tr>\n",
       "  </thead>\n",
       "  <tbody>\n",
       "    <tr>\n",
       "      <th>20</th>\n",
       "      <td>Ayush</td>\n",
       "    </tr>\n",
       "    <tr>\n",
       "      <th>24</th>\n",
       "      <td>Avinash</td>\n",
       "    </tr>\n",
       "    <tr>\n",
       "      <th>26</th>\n",
       "      <td>Akash</td>\n",
       "    </tr>\n",
       "  </tbody>\n",
       "</table>\n",
       "</div>"
      ],
      "text/plain": [
       "          0\n",
       "20    Ayush\n",
       "24  Avinash\n",
       "26    Akash"
      ]
     },
     "execution_count": 6,
     "metadata": {},
     "output_type": "execute_result"
    }
   ],
   "source": [
    "names=['Ayush', 'Avinash', 'Akash']\n",
    "age=[20, 24, 26]\n",
    "pd.DataFrame(names,age)"
   ]
  },
  {
   "cell_type": "code",
   "execution_count": 7,
   "id": "5a2f0e8d-ba91-4f71-b9d4-ac6edc73b710",
   "metadata": {},
   "outputs": [
    {
     "data": {
      "text/html": [
       "<div>\n",
       "<style scoped>\n",
       "    .dataframe tbody tr th:only-of-type {\n",
       "        vertical-align: middle;\n",
       "    }\n",
       "\n",
       "    .dataframe tbody tr th {\n",
       "        vertical-align: top;\n",
       "    }\n",
       "\n",
       "    .dataframe thead th {\n",
       "        text-align: right;\n",
       "    }\n",
       "</style>\n",
       "<table border=\"1\" class=\"dataframe\">\n",
       "  <thead>\n",
       "    <tr style=\"text-align: right;\">\n",
       "      <th></th>\n",
       "      <th>0</th>\n",
       "      <th>1</th>\n",
       "    </tr>\n",
       "  </thead>\n",
       "  <tbody>\n",
       "    <tr>\n",
       "      <th>0</th>\n",
       "      <td>Ayush</td>\n",
       "      <td>20</td>\n",
       "    </tr>\n",
       "    <tr>\n",
       "      <th>1</th>\n",
       "      <td>Avinash</td>\n",
       "      <td>24</td>\n",
       "    </tr>\n",
       "    <tr>\n",
       "      <th>2</th>\n",
       "      <td>Akash</td>\n",
       "      <td>26</td>\n",
       "    </tr>\n",
       "  </tbody>\n",
       "</table>\n",
       "</div>"
      ],
      "text/plain": [
       "         0   1\n",
       "0    Ayush  20\n",
       "1  Avinash  24\n",
       "2    Akash  26"
      ]
     },
     "execution_count": 7,
     "metadata": {},
     "output_type": "execute_result"
    }
   ],
   "source": [
    "names=['Ayush', 'Avinash', 'Akash']\n",
    "age=[20, 24, 26]\n",
    "pd.DataFrame(zip(names,age))"
   ]
  },
  {
   "cell_type": "code",
   "execution_count": null,
   "id": "58de74f3-4773-4cd7-a425-c9174307a386",
   "metadata": {},
   "outputs": [],
   "source": [
    "################################"
   ]
  },
  {
   "cell_type": "code",
   "execution_count": 9,
   "id": "8abe1cf6-9863-4a05-988c-27fbbaffa9f5",
   "metadata": {},
   "outputs": [],
   "source": [
    "names=['Ayush', 'Avinash', 'Akash']\n",
    "age=[25, 30, 35]\n",
    "city=['hyd','blr','chennai']\n",
    "data=zip(names,age,city)\n",
    "cols=['Names','Age','City']\n",
    "df=pd.DataFrame(data,columns=cols)"
   ]
  },
  {
   "cell_type": "markdown",
   "id": "48c9b455-ea21-4941-861a-73e800d4ed70",
   "metadata": {},
   "source": [
    "$Step-6$:\n",
    "\n",
    "**Change the Index**"
   ]
  },
  {
   "cell_type": "code",
   "execution_count": 10,
   "id": "5da4fe73-633f-4ff0-922c-25bbd35d928a",
   "metadata": {},
   "outputs": [
    {
     "data": {
      "text/html": [
       "<div>\n",
       "<style scoped>\n",
       "    .dataframe tbody tr th:only-of-type {\n",
       "        vertical-align: middle;\n",
       "    }\n",
       "\n",
       "    .dataframe tbody tr th {\n",
       "        vertical-align: top;\n",
       "    }\n",
       "\n",
       "    .dataframe thead th {\n",
       "        text-align: right;\n",
       "    }\n",
       "</style>\n",
       "<table border=\"1\" class=\"dataframe\">\n",
       "  <thead>\n",
       "    <tr style=\"text-align: right;\">\n",
       "      <th></th>\n",
       "      <th>Names</th>\n",
       "      <th>Age</th>\n",
       "      <th>City</th>\n",
       "    </tr>\n",
       "  </thead>\n",
       "  <tbody>\n",
       "    <tr>\n",
       "      <th>0</th>\n",
       "      <td>Ayush</td>\n",
       "      <td>25</td>\n",
       "      <td>hyd</td>\n",
       "    </tr>\n",
       "    <tr>\n",
       "      <th>1</th>\n",
       "      <td>Avinash</td>\n",
       "      <td>30</td>\n",
       "      <td>blr</td>\n",
       "    </tr>\n",
       "    <tr>\n",
       "      <th>2</th>\n",
       "      <td>Akash</td>\n",
       "      <td>35</td>\n",
       "      <td>chennai</td>\n",
       "    </tr>\n",
       "  </tbody>\n",
       "</table>\n",
       "</div>"
      ],
      "text/plain": [
       "     Names  Age     City\n",
       "0    Ayush   25      hyd\n",
       "1  Avinash   30      blr\n",
       "2    Akash   35  chennai"
      ]
     },
     "execution_count": 10,
     "metadata": {},
     "output_type": "execute_result"
    }
   ],
   "source": [
    "df"
   ]
  },
  {
   "cell_type": "code",
   "execution_count": 12,
   "id": "097e8dbb-70bd-405f-a2f2-4995081334e0",
   "metadata": {},
   "outputs": [
    {
     "data": {
      "text/html": [
       "<div>\n",
       "<style scoped>\n",
       "    .dataframe tbody tr th:only-of-type {\n",
       "        vertical-align: middle;\n",
       "    }\n",
       "\n",
       "    .dataframe tbody tr th {\n",
       "        vertical-align: top;\n",
       "    }\n",
       "\n",
       "    .dataframe thead th {\n",
       "        text-align: right;\n",
       "    }\n",
       "</style>\n",
       "<table border=\"1\" class=\"dataframe\">\n",
       "  <thead>\n",
       "    <tr style=\"text-align: right;\">\n",
       "      <th></th>\n",
       "      <th>Names</th>\n",
       "      <th>Age</th>\n",
       "      <th>City</th>\n",
       "    </tr>\n",
       "  </thead>\n",
       "  <tbody>\n",
       "    <tr>\n",
       "      <th>A</th>\n",
       "      <td>Ayush</td>\n",
       "      <td>25</td>\n",
       "      <td>hyd</td>\n",
       "    </tr>\n",
       "    <tr>\n",
       "      <th>B</th>\n",
       "      <td>Avinash</td>\n",
       "      <td>30</td>\n",
       "      <td>blr</td>\n",
       "    </tr>\n",
       "    <tr>\n",
       "      <th>C</th>\n",
       "      <td>Akash</td>\n",
       "      <td>35</td>\n",
       "      <td>chennai</td>\n",
       "    </tr>\n",
       "  </tbody>\n",
       "</table>\n",
       "</div>"
      ],
      "text/plain": [
       "     Names  Age     City\n",
       "A    Ayush   25      hyd\n",
       "B  Avinash   30      blr\n",
       "C    Akash   35  chennai"
      ]
     },
     "execution_count": 12,
     "metadata": {},
     "output_type": "execute_result"
    }
   ],
   "source": [
    "import pandas as pd\n",
    "names=['Ayush', 'Avinash', 'Akash']\n",
    "age=[25, 30, 35]\n",
    "city=['hyd','blr','chennai']\n",
    "\n",
    "data=zip(names,age,city)\n",
    "idx=['A','B','C']\n",
    "cols=['Names','Age','City']\n",
    "df=pd.DataFrame(data,index=idx,columns=cols)\n",
    "df"
   ]
  },
  {
   "cell_type": "code",
   "execution_count": 14,
   "id": "4b002d07-2039-4607-a92c-2e27729a65a0",
   "metadata": {},
   "outputs": [
    {
     "data": {
      "text/html": [
       "<div>\n",
       "<style scoped>\n",
       "    .dataframe tbody tr th:only-of-type {\n",
       "        vertical-align: middle;\n",
       "    }\n",
       "\n",
       "    .dataframe tbody tr th {\n",
       "        vertical-align: top;\n",
       "    }\n",
       "\n",
       "    .dataframe thead th {\n",
       "        text-align: right;\n",
       "    }\n",
       "</style>\n",
       "<table border=\"1\" class=\"dataframe\">\n",
       "  <thead>\n",
       "    <tr style=\"text-align: right;\">\n",
       "      <th></th>\n",
       "      <th>Names</th>\n",
       "      <th>Age</th>\n",
       "      <th>City</th>\n",
       "    </tr>\n",
       "  </thead>\n",
       "  <tbody>\n",
       "    <tr>\n",
       "      <th>A</th>\n",
       "      <td>Ayush</td>\n",
       "      <td>25</td>\n",
       "      <td>hyd</td>\n",
       "    </tr>\n",
       "    <tr>\n",
       "      <th>B</th>\n",
       "      <td>Avinash</td>\n",
       "      <td>30</td>\n",
       "      <td>blr</td>\n",
       "    </tr>\n",
       "    <tr>\n",
       "      <th>C</th>\n",
       "      <td>Akash</td>\n",
       "      <td>35</td>\n",
       "      <td>chennai</td>\n",
       "    </tr>\n",
       "    <tr>\n",
       "      <th>D</th>\n",
       "      <td>Anvi</td>\n",
       "      <td>40</td>\n",
       "      <td>Mumbai</td>\n",
       "    </tr>\n",
       "  </tbody>\n",
       "</table>\n",
       "</div>"
      ],
      "text/plain": [
       "     Names  Age     City\n",
       "A    Ayush   25      hyd\n",
       "B  Avinash   30      blr\n",
       "C    Akash   35  chennai\n",
       "D     Anvi   40   Mumbai"
      ]
     },
     "execution_count": 14,
     "metadata": {},
     "output_type": "execute_result"
    }
   ],
   "source": [
    "import pandas as pd\n",
    "names=['Ayush', 'Avinash', 'Akash', 'Anvi']\n",
    "age=[25, 30, 35,40]\n",
    "city=['hyd','blr','chennai','Mumbai']\n",
    "\n",
    "data=zip(names,age,city)\n",
    "idx=['A','B','C','D']\n",
    "cols=['Names','Age','City']\n",
    "df=pd.DataFrame(data,index=idx,columns=cols)\n",
    "df"
   ]
  },
  {
   "cell_type": "markdown",
   "id": "b6aa5cc6-8c2e-463f-8593-bd4f074f893e",
   "metadata": {},
   "source": [
    "$Step-7$:\n",
    "\n",
    "**Shape**\n",
    "\n",
    "- Number of rows\n",
    "\n",
    "- Number of columns"
   ]
  },
  {
   "cell_type": "code",
   "execution_count": 18,
   "id": "b8633175-97e2-4a2d-9282-c01afdf12561",
   "metadata": {},
   "outputs": [
    {
     "name": "stdout",
     "output_type": "stream",
     "text": [
      "The number of rows are: 4\n",
      "The number of columns are: 3\n"
     ]
    }
   ],
   "source": [
    "df.shape\n",
    "# Matrix format\n",
    "# 4 rows and 3 columns\n",
    "print(\"The number of rows are:\", df.shape[0])\n",
    "print(\"The number of columns are:\", df.shape[1])\n"
   ]
  },
  {
   "cell_type": "markdown",
   "id": "1666547f-d206-4ca3-887d-da44a5d4b659",
   "metadata": {},
   "source": [
    "$Step-8$:\n",
    "\n",
    "**Drop the column**\n",
    "\n",
    "- In order to drop column we require 3 parameters\n",
    "\n",
    "- Column name\n",
    "\n",
    "    - The column name we need to mention\n",
    "\n",
    "- axis\n",
    "    \n",
    "    - axis=0 **represents rows**\n",
    " \n",
    "    - axis=1 **represents columns**\n",
    " \n",
    "- inplace\n",
    "\n",
    "    - we are drop column means we are modifying the data frame\n",
    " \n",
    "    - so this modifications we want to save in same variable or different variable\n",
    " \n",
    "    - If you want to keep in the same variable the **inplace=True**  "
   ]
  },
  {
   "cell_type": "code",
   "execution_count": 19,
   "id": "d646915e-1885-4bb9-81f6-233a98f0e2b3",
   "metadata": {},
   "outputs": [
    {
     "data": {
      "text/html": [
       "<div>\n",
       "<style scoped>\n",
       "    .dataframe tbody tr th:only-of-type {\n",
       "        vertical-align: middle;\n",
       "    }\n",
       "\n",
       "    .dataframe tbody tr th {\n",
       "        vertical-align: top;\n",
       "    }\n",
       "\n",
       "    .dataframe thead th {\n",
       "        text-align: right;\n",
       "    }\n",
       "</style>\n",
       "<table border=\"1\" class=\"dataframe\">\n",
       "  <thead>\n",
       "    <tr style=\"text-align: right;\">\n",
       "      <th></th>\n",
       "      <th>Names</th>\n",
       "      <th>Age</th>\n",
       "      <th>City</th>\n",
       "    </tr>\n",
       "  </thead>\n",
       "  <tbody>\n",
       "    <tr>\n",
       "      <th>A</th>\n",
       "      <td>Ayush</td>\n",
       "      <td>25</td>\n",
       "      <td>hyd</td>\n",
       "    </tr>\n",
       "    <tr>\n",
       "      <th>B</th>\n",
       "      <td>Avinash</td>\n",
       "      <td>30</td>\n",
       "      <td>blr</td>\n",
       "    </tr>\n",
       "    <tr>\n",
       "      <th>C</th>\n",
       "      <td>Akash</td>\n",
       "      <td>35</td>\n",
       "      <td>chennai</td>\n",
       "    </tr>\n",
       "    <tr>\n",
       "      <th>D</th>\n",
       "      <td>Anvi</td>\n",
       "      <td>40</td>\n",
       "      <td>Mumbai</td>\n",
       "    </tr>\n",
       "  </tbody>\n",
       "</table>\n",
       "</div>"
      ],
      "text/plain": [
       "     Names  Age     City\n",
       "A    Ayush   25      hyd\n",
       "B  Avinash   30      blr\n",
       "C    Akash   35  chennai\n",
       "D     Anvi   40   Mumbai"
      ]
     },
     "execution_count": 19,
     "metadata": {},
     "output_type": "execute_result"
    }
   ],
   "source": [
    "df"
   ]
  },
  {
   "cell_type": "code",
   "execution_count": 21,
   "id": "53034677-d6b3-49d2-9057-50c7d0b2b5eb",
   "metadata": {},
   "outputs": [],
   "source": [
    "df.drop('City',axis=1,inplace=True)"
   ]
  },
  {
   "cell_type": "code",
   "execution_count": 22,
   "id": "74e3c5d8-b82c-434a-92d7-6dd1bb4a98e2",
   "metadata": {},
   "outputs": [
    {
     "data": {
      "text/html": [
       "<div>\n",
       "<style scoped>\n",
       "    .dataframe tbody tr th:only-of-type {\n",
       "        vertical-align: middle;\n",
       "    }\n",
       "\n",
       "    .dataframe tbody tr th {\n",
       "        vertical-align: top;\n",
       "    }\n",
       "\n",
       "    .dataframe thead th {\n",
       "        text-align: right;\n",
       "    }\n",
       "</style>\n",
       "<table border=\"1\" class=\"dataframe\">\n",
       "  <thead>\n",
       "    <tr style=\"text-align: right;\">\n",
       "      <th></th>\n",
       "      <th>Names</th>\n",
       "      <th>Age</th>\n",
       "    </tr>\n",
       "  </thead>\n",
       "  <tbody>\n",
       "    <tr>\n",
       "      <th>A</th>\n",
       "      <td>Ayush</td>\n",
       "      <td>25</td>\n",
       "    </tr>\n",
       "    <tr>\n",
       "      <th>B</th>\n",
       "      <td>Avinash</td>\n",
       "      <td>30</td>\n",
       "    </tr>\n",
       "    <tr>\n",
       "      <th>C</th>\n",
       "      <td>Akash</td>\n",
       "      <td>35</td>\n",
       "    </tr>\n",
       "    <tr>\n",
       "      <th>D</th>\n",
       "      <td>Anvi</td>\n",
       "      <td>40</td>\n",
       "    </tr>\n",
       "  </tbody>\n",
       "</table>\n",
       "</div>"
      ],
      "text/plain": [
       "     Names  Age\n",
       "A    Ayush   25\n",
       "B  Avinash   30\n",
       "C    Akash   35\n",
       "D     Anvi   40"
      ]
     },
     "execution_count": 22,
     "metadata": {},
     "output_type": "execute_result"
    }
   ],
   "source": [
    "df"
   ]
  },
  {
   "cell_type": "code",
   "execution_count": 25,
   "id": "3914c840-34dc-4d18-a463-cf51f8be3b00",
   "metadata": {},
   "outputs": [
    {
     "data": {
      "text/html": [
       "<div>\n",
       "<style scoped>\n",
       "    .dataframe tbody tr th:only-of-type {\n",
       "        vertical-align: middle;\n",
       "    }\n",
       "\n",
       "    .dataframe tbody tr th {\n",
       "        vertical-align: top;\n",
       "    }\n",
       "\n",
       "    .dataframe thead th {\n",
       "        text-align: right;\n",
       "    }\n",
       "</style>\n",
       "<table border=\"1\" class=\"dataframe\">\n",
       "  <thead>\n",
       "    <tr style=\"text-align: right;\">\n",
       "      <th></th>\n",
       "      <th>Names</th>\n",
       "    </tr>\n",
       "  </thead>\n",
       "  <tbody>\n",
       "    <tr>\n",
       "      <th>A</th>\n",
       "      <td>Ayush</td>\n",
       "    </tr>\n",
       "    <tr>\n",
       "      <th>B</th>\n",
       "      <td>Avinash</td>\n",
       "    </tr>\n",
       "    <tr>\n",
       "      <th>C</th>\n",
       "      <td>Akash</td>\n",
       "    </tr>\n",
       "    <tr>\n",
       "      <th>D</th>\n",
       "      <td>Anvi</td>\n",
       "    </tr>\n",
       "  </tbody>\n",
       "</table>\n",
       "</div>"
      ],
      "text/plain": [
       "     Names\n",
       "A    Ayush\n",
       "B  Avinash\n",
       "C    Akash\n",
       "D     Anvi"
      ]
     },
     "execution_count": 25,
     "metadata": {},
     "output_type": "execute_result"
    }
   ],
   "source": [
    "df.drop('Age',axis=1)  # do not give inplace=True"
   ]
  },
  {
   "cell_type": "code",
   "execution_count": 26,
   "id": "dc2750a3-2754-4949-9806-af4f295198ad",
   "metadata": {},
   "outputs": [
    {
     "data": {
      "text/html": [
       "<div>\n",
       "<style scoped>\n",
       "    .dataframe tbody tr th:only-of-type {\n",
       "        vertical-align: middle;\n",
       "    }\n",
       "\n",
       "    .dataframe tbody tr th {\n",
       "        vertical-align: top;\n",
       "    }\n",
       "\n",
       "    .dataframe thead th {\n",
       "        text-align: right;\n",
       "    }\n",
       "</style>\n",
       "<table border=\"1\" class=\"dataframe\">\n",
       "  <thead>\n",
       "    <tr style=\"text-align: right;\">\n",
       "      <th></th>\n",
       "      <th>Names</th>\n",
       "      <th>Age</th>\n",
       "    </tr>\n",
       "  </thead>\n",
       "  <tbody>\n",
       "    <tr>\n",
       "      <th>A</th>\n",
       "      <td>Ayush</td>\n",
       "      <td>25</td>\n",
       "    </tr>\n",
       "    <tr>\n",
       "      <th>B</th>\n",
       "      <td>Avinash</td>\n",
       "      <td>30</td>\n",
       "    </tr>\n",
       "    <tr>\n",
       "      <th>C</th>\n",
       "      <td>Akash</td>\n",
       "      <td>35</td>\n",
       "    </tr>\n",
       "    <tr>\n",
       "      <th>D</th>\n",
       "      <td>Anvi</td>\n",
       "      <td>40</td>\n",
       "    </tr>\n",
       "  </tbody>\n",
       "</table>\n",
       "</div>"
      ],
      "text/plain": [
       "     Names  Age\n",
       "A    Ayush   25\n",
       "B  Avinash   30\n",
       "C    Akash   35\n",
       "D     Anvi   40"
      ]
     },
     "execution_count": 26,
     "metadata": {},
     "output_type": "execute_result"
    }
   ],
   "source": [
    "df"
   ]
  },
  {
   "cell_type": "code",
   "execution_count": 27,
   "id": "034fd81e-05e5-475d-a1bf-00270a47c942",
   "metadata": {},
   "outputs": [],
   "source": [
    "df1=df.drop('Age',axis=1)"
   ]
  },
  {
   "cell_type": "code",
   "execution_count": 28,
   "id": "9a280ce3-0bf5-45f3-b274-20a07b1cbea1",
   "metadata": {},
   "outputs": [
    {
     "data": {
      "text/html": [
       "<div>\n",
       "<style scoped>\n",
       "    .dataframe tbody tr th:only-of-type {\n",
       "        vertical-align: middle;\n",
       "    }\n",
       "\n",
       "    .dataframe tbody tr th {\n",
       "        vertical-align: top;\n",
       "    }\n",
       "\n",
       "    .dataframe thead th {\n",
       "        text-align: right;\n",
       "    }\n",
       "</style>\n",
       "<table border=\"1\" class=\"dataframe\">\n",
       "  <thead>\n",
       "    <tr style=\"text-align: right;\">\n",
       "      <th></th>\n",
       "      <th>Names</th>\n",
       "    </tr>\n",
       "  </thead>\n",
       "  <tbody>\n",
       "    <tr>\n",
       "      <th>A</th>\n",
       "      <td>Ayush</td>\n",
       "    </tr>\n",
       "    <tr>\n",
       "      <th>B</th>\n",
       "      <td>Avinash</td>\n",
       "    </tr>\n",
       "    <tr>\n",
       "      <th>C</th>\n",
       "      <td>Akash</td>\n",
       "    </tr>\n",
       "    <tr>\n",
       "      <th>D</th>\n",
       "      <td>Anvi</td>\n",
       "    </tr>\n",
       "  </tbody>\n",
       "</table>\n",
       "</div>"
      ],
      "text/plain": [
       "     Names\n",
       "A    Ayush\n",
       "B  Avinash\n",
       "C    Akash\n",
       "D     Anvi"
      ]
     },
     "execution_count": 28,
     "metadata": {},
     "output_type": "execute_result"
    }
   ],
   "source": [
    "df1"
   ]
  },
  {
   "cell_type": "code",
   "execution_count": 29,
   "id": "04d29b79-a8f1-4765-b357-0868aad811bf",
   "metadata": {},
   "outputs": [
    {
     "data": {
      "text/html": [
       "<div>\n",
       "<style scoped>\n",
       "    .dataframe tbody tr th:only-of-type {\n",
       "        vertical-align: middle;\n",
       "    }\n",
       "\n",
       "    .dataframe tbody tr th {\n",
       "        vertical-align: top;\n",
       "    }\n",
       "\n",
       "    .dataframe thead th {\n",
       "        text-align: right;\n",
       "    }\n",
       "</style>\n",
       "<table border=\"1\" class=\"dataframe\">\n",
       "  <thead>\n",
       "    <tr style=\"text-align: right;\">\n",
       "      <th></th>\n",
       "      <th>Names</th>\n",
       "      <th>Age</th>\n",
       "    </tr>\n",
       "  </thead>\n",
       "  <tbody>\n",
       "    <tr>\n",
       "      <th>A</th>\n",
       "      <td>Ayush</td>\n",
       "      <td>25</td>\n",
       "    </tr>\n",
       "    <tr>\n",
       "      <th>B</th>\n",
       "      <td>Avinash</td>\n",
       "      <td>30</td>\n",
       "    </tr>\n",
       "    <tr>\n",
       "      <th>C</th>\n",
       "      <td>Akash</td>\n",
       "      <td>35</td>\n",
       "    </tr>\n",
       "    <tr>\n",
       "      <th>D</th>\n",
       "      <td>Anvi</td>\n",
       "      <td>40</td>\n",
       "    </tr>\n",
       "  </tbody>\n",
       "</table>\n",
       "</div>"
      ],
      "text/plain": [
       "     Names  Age\n",
       "A    Ayush   25\n",
       "B  Avinash   30\n",
       "C    Akash   35\n",
       "D     Anvi   40"
      ]
     },
     "execution_count": 29,
     "metadata": {},
     "output_type": "execute_result"
    }
   ],
   "source": [
    "df"
   ]
  },
  {
   "cell_type": "code",
   "execution_count": 31,
   "id": "7cf1572f-67a9-40f9-bb76-77ec7870c528",
   "metadata": {},
   "outputs": [
    {
     "data": {
      "text/html": [
       "<div>\n",
       "<style scoped>\n",
       "    .dataframe tbody tr th:only-of-type {\n",
       "        vertical-align: middle;\n",
       "    }\n",
       "\n",
       "    .dataframe tbody tr th {\n",
       "        vertical-align: top;\n",
       "    }\n",
       "\n",
       "    .dataframe thead th {\n",
       "        text-align: right;\n",
       "    }\n",
       "</style>\n",
       "<table border=\"1\" class=\"dataframe\">\n",
       "  <thead>\n",
       "    <tr style=\"text-align: right;\">\n",
       "      <th></th>\n",
       "      <th>Names</th>\n",
       "      <th>Age</th>\n",
       "      <th>City</th>\n",
       "    </tr>\n",
       "  </thead>\n",
       "  <tbody>\n",
       "    <tr>\n",
       "      <th>A</th>\n",
       "      <td>Ayush</td>\n",
       "      <td>25</td>\n",
       "      <td>hyd</td>\n",
       "    </tr>\n",
       "    <tr>\n",
       "      <th>B</th>\n",
       "      <td>Avinash</td>\n",
       "      <td>30</td>\n",
       "      <td>blr</td>\n",
       "    </tr>\n",
       "    <tr>\n",
       "      <th>C</th>\n",
       "      <td>Akash</td>\n",
       "      <td>35</td>\n",
       "      <td>chennai</td>\n",
       "    </tr>\n",
       "    <tr>\n",
       "      <th>D</th>\n",
       "      <td>Anvi</td>\n",
       "      <td>40</td>\n",
       "      <td>Mumbai</td>\n",
       "    </tr>\n",
       "  </tbody>\n",
       "</table>\n",
       "</div>"
      ],
      "text/plain": [
       "     Names  Age     City\n",
       "A    Ayush   25      hyd\n",
       "B  Avinash   30      blr\n",
       "C    Akash   35  chennai\n",
       "D     Anvi   40   Mumbai"
      ]
     },
     "execution_count": 31,
     "metadata": {},
     "output_type": "execute_result"
    }
   ],
   "source": [
    "names=['Ayush', 'Avinash', 'Akash', 'Anvi']\n",
    "age=[25, 30, 35,40]\n",
    "city=['hyd','blr','chennai','Mumbai']\n",
    "\n",
    "data=zip(names,age,city)\n",
    "idx=['A','B','C','D']\n",
    "cols=['Names','Age','City']\n",
    "df=pd.DataFrame(data,index=idx,columns=cols)\n",
    "df"
   ]
  },
  {
   "cell_type": "code",
   "execution_count": 32,
   "id": "4cc5cb71-90f1-4594-9aff-87945de168b3",
   "metadata": {},
   "outputs": [],
   "source": [
    "df.drop('City',axis=1,inplace=True)"
   ]
  },
  {
   "cell_type": "code",
   "execution_count": 33,
   "id": "c73c8111-31c3-4dd6-9c9c-53cae07ff407",
   "metadata": {},
   "outputs": [
    {
     "data": {
      "text/html": [
       "<div>\n",
       "<style scoped>\n",
       "    .dataframe tbody tr th:only-of-type {\n",
       "        vertical-align: middle;\n",
       "    }\n",
       "\n",
       "    .dataframe tbody tr th {\n",
       "        vertical-align: top;\n",
       "    }\n",
       "\n",
       "    .dataframe thead th {\n",
       "        text-align: right;\n",
       "    }\n",
       "</style>\n",
       "<table border=\"1\" class=\"dataframe\">\n",
       "  <thead>\n",
       "    <tr style=\"text-align: right;\">\n",
       "      <th></th>\n",
       "      <th>Names</th>\n",
       "      <th>Age</th>\n",
       "    </tr>\n",
       "  </thead>\n",
       "  <tbody>\n",
       "    <tr>\n",
       "      <th>A</th>\n",
       "      <td>Ayush</td>\n",
       "      <td>25</td>\n",
       "    </tr>\n",
       "    <tr>\n",
       "      <th>B</th>\n",
       "      <td>Avinash</td>\n",
       "      <td>30</td>\n",
       "    </tr>\n",
       "    <tr>\n",
       "      <th>C</th>\n",
       "      <td>Akash</td>\n",
       "      <td>35</td>\n",
       "    </tr>\n",
       "    <tr>\n",
       "      <th>D</th>\n",
       "      <td>Anvi</td>\n",
       "      <td>40</td>\n",
       "    </tr>\n",
       "  </tbody>\n",
       "</table>\n",
       "</div>"
      ],
      "text/plain": [
       "     Names  Age\n",
       "A    Ayush   25\n",
       "B  Avinash   30\n",
       "C    Akash   35\n",
       "D     Anvi   40"
      ]
     },
     "execution_count": 33,
     "metadata": {},
     "output_type": "execute_result"
    }
   ],
   "source": [
    "df"
   ]
  },
  {
   "cell_type": "code",
   "execution_count": 34,
   "id": "fc96260a-26e0-4c7f-9da0-1fd37cdfef64",
   "metadata": {},
   "outputs": [
    {
     "data": {
      "text/html": [
       "<div>\n",
       "<style scoped>\n",
       "    .dataframe tbody tr th:only-of-type {\n",
       "        vertical-align: middle;\n",
       "    }\n",
       "\n",
       "    .dataframe tbody tr th {\n",
       "        vertical-align: top;\n",
       "    }\n",
       "\n",
       "    .dataframe thead th {\n",
       "        text-align: right;\n",
       "    }\n",
       "</style>\n",
       "<table border=\"1\" class=\"dataframe\">\n",
       "  <thead>\n",
       "    <tr style=\"text-align: right;\">\n",
       "      <th></th>\n",
       "      <th>Names</th>\n",
       "      <th>Age</th>\n",
       "      <th>City</th>\n",
       "    </tr>\n",
       "  </thead>\n",
       "  <tbody>\n",
       "    <tr>\n",
       "      <th>A</th>\n",
       "      <td>Ayush</td>\n",
       "      <td>25</td>\n",
       "      <td>hyd</td>\n",
       "    </tr>\n",
       "    <tr>\n",
       "      <th>B</th>\n",
       "      <td>Avinash</td>\n",
       "      <td>30</td>\n",
       "      <td>blr</td>\n",
       "    </tr>\n",
       "    <tr>\n",
       "      <th>C</th>\n",
       "      <td>Akash</td>\n",
       "      <td>35</td>\n",
       "      <td>chennai</td>\n",
       "    </tr>\n",
       "    <tr>\n",
       "      <th>D</th>\n",
       "      <td>Anvi</td>\n",
       "      <td>40</td>\n",
       "      <td>Mumbai</td>\n",
       "    </tr>\n",
       "  </tbody>\n",
       "</table>\n",
       "</div>"
      ],
      "text/plain": [
       "     Names  Age     City\n",
       "A    Ayush   25      hyd\n",
       "B  Avinash   30      blr\n",
       "C    Akash   35  chennai\n",
       "D     Anvi   40   Mumbai"
      ]
     },
     "execution_count": 34,
     "metadata": {},
     "output_type": "execute_result"
    }
   ],
   "source": [
    "import pandas as pd\n",
    "names=['Ayush', 'Avinash', 'Akash', 'Anvi']\n",
    "age=[25, 30, 35,40]\n",
    "city=['hyd','blr','chennai','Mumbai']\n",
    "\n",
    "data=zip(names,age,city)\n",
    "idx=['A','B','C','D']\n",
    "cols=['Names','Age','City']\n",
    "df=pd.DataFrame(data,index=idx,columns=cols)\n",
    "df"
   ]
  },
  {
   "cell_type": "markdown",
   "id": "42778b78-0b0c-46e2-9090-d378137eee25",
   "metadata": {},
   "source": [
    "$Step-9$: \n",
    "\n",
    "**Drop Mutlple Columns**"
   ]
  },
  {
   "cell_type": "code",
   "execution_count": 35,
   "id": "e237715a-dbfd-4abf-b70b-8542668e98dc",
   "metadata": {},
   "outputs": [],
   "source": [
    "df.drop(['Age','City'],axis=1,inplace=True)"
   ]
  },
  {
   "cell_type": "code",
   "execution_count": 36,
   "id": "73d62662-94b2-4e84-906a-3b162fba1f61",
   "metadata": {},
   "outputs": [
    {
     "data": {
      "text/html": [
       "<div>\n",
       "<style scoped>\n",
       "    .dataframe tbody tr th:only-of-type {\n",
       "        vertical-align: middle;\n",
       "    }\n",
       "\n",
       "    .dataframe tbody tr th {\n",
       "        vertical-align: top;\n",
       "    }\n",
       "\n",
       "    .dataframe thead th {\n",
       "        text-align: right;\n",
       "    }\n",
       "</style>\n",
       "<table border=\"1\" class=\"dataframe\">\n",
       "  <thead>\n",
       "    <tr style=\"text-align: right;\">\n",
       "      <th></th>\n",
       "      <th>Names</th>\n",
       "    </tr>\n",
       "  </thead>\n",
       "  <tbody>\n",
       "    <tr>\n",
       "      <th>A</th>\n",
       "      <td>Ayush</td>\n",
       "    </tr>\n",
       "    <tr>\n",
       "      <th>B</th>\n",
       "      <td>Avinash</td>\n",
       "    </tr>\n",
       "    <tr>\n",
       "      <th>C</th>\n",
       "      <td>Akash</td>\n",
       "    </tr>\n",
       "    <tr>\n",
       "      <th>D</th>\n",
       "      <td>Anvi</td>\n",
       "    </tr>\n",
       "  </tbody>\n",
       "</table>\n",
       "</div>"
      ],
      "text/plain": [
       "     Names\n",
       "A    Ayush\n",
       "B  Avinash\n",
       "C    Akash\n",
       "D     Anvi"
      ]
     },
     "execution_count": 36,
     "metadata": {},
     "output_type": "execute_result"
    }
   ],
   "source": [
    "df"
   ]
  },
  {
   "cell_type": "markdown",
   "id": "43854656-821b-40b3-951b-febec41ee724",
   "metadata": {},
   "source": [
    "$Step-10$: \n",
    "\n",
    "**Drop the Rows**"
   ]
  },
  {
   "cell_type": "code",
   "execution_count": 37,
   "id": "f5b963c1-a96b-47e2-9a86-e0dd4f171251",
   "metadata": {},
   "outputs": [
    {
     "data": {
      "text/html": [
       "<div>\n",
       "<style scoped>\n",
       "    .dataframe tbody tr th:only-of-type {\n",
       "        vertical-align: middle;\n",
       "    }\n",
       "\n",
       "    .dataframe tbody tr th {\n",
       "        vertical-align: top;\n",
       "    }\n",
       "\n",
       "    .dataframe thead th {\n",
       "        text-align: right;\n",
       "    }\n",
       "</style>\n",
       "<table border=\"1\" class=\"dataframe\">\n",
       "  <thead>\n",
       "    <tr style=\"text-align: right;\">\n",
       "      <th></th>\n",
       "      <th>Names</th>\n",
       "      <th>Age</th>\n",
       "      <th>City</th>\n",
       "    </tr>\n",
       "  </thead>\n",
       "  <tbody>\n",
       "    <tr>\n",
       "      <th>A</th>\n",
       "      <td>Ayush</td>\n",
       "      <td>25</td>\n",
       "      <td>hyd</td>\n",
       "    </tr>\n",
       "    <tr>\n",
       "      <th>B</th>\n",
       "      <td>Avinash</td>\n",
       "      <td>30</td>\n",
       "      <td>blr</td>\n",
       "    </tr>\n",
       "    <tr>\n",
       "      <th>C</th>\n",
       "      <td>Akash</td>\n",
       "      <td>35</td>\n",
       "      <td>chennai</td>\n",
       "    </tr>\n",
       "    <tr>\n",
       "      <th>D</th>\n",
       "      <td>Anvi</td>\n",
       "      <td>40</td>\n",
       "      <td>Mumbai</td>\n",
       "    </tr>\n",
       "  </tbody>\n",
       "</table>\n",
       "</div>"
      ],
      "text/plain": [
       "     Names  Age     City\n",
       "A    Ayush   25      hyd\n",
       "B  Avinash   30      blr\n",
       "C    Akash   35  chennai\n",
       "D     Anvi   40   Mumbai"
      ]
     },
     "execution_count": 37,
     "metadata": {},
     "output_type": "execute_result"
    }
   ],
   "source": [
    "import pandas as pd\n",
    "names=['Ayush', 'Avinash', 'Akash', 'Anvi']\n",
    "age=[25, 30, 35,40]\n",
    "city=['hyd','blr','chennai','Mumbai']\n",
    "\n",
    "data=zip(names,age,city)\n",
    "idx=['A','B','C','D']\n",
    "cols=['Names','Age','City']\n",
    "df=pd.DataFrame(data,index=idx,columns=cols)\n",
    "df"
   ]
  },
  {
   "cell_type": "code",
   "execution_count": 38,
   "id": "5d931c6f-8bd3-4983-ac2b-57f0bc354751",
   "metadata": {},
   "outputs": [],
   "source": [
    "df.drop('A',axis=0,inplace=True)"
   ]
  },
  {
   "cell_type": "code",
   "execution_count": 39,
   "id": "2fe62103-7489-48b1-98c9-6942bd505955",
   "metadata": {},
   "outputs": [
    {
     "data": {
      "text/html": [
       "<div>\n",
       "<style scoped>\n",
       "    .dataframe tbody tr th:only-of-type {\n",
       "        vertical-align: middle;\n",
       "    }\n",
       "\n",
       "    .dataframe tbody tr th {\n",
       "        vertical-align: top;\n",
       "    }\n",
       "\n",
       "    .dataframe thead th {\n",
       "        text-align: right;\n",
       "    }\n",
       "</style>\n",
       "<table border=\"1\" class=\"dataframe\">\n",
       "  <thead>\n",
       "    <tr style=\"text-align: right;\">\n",
       "      <th></th>\n",
       "      <th>Names</th>\n",
       "      <th>Age</th>\n",
       "      <th>City</th>\n",
       "    </tr>\n",
       "  </thead>\n",
       "  <tbody>\n",
       "    <tr>\n",
       "      <th>B</th>\n",
       "      <td>Avinash</td>\n",
       "      <td>30</td>\n",
       "      <td>blr</td>\n",
       "    </tr>\n",
       "    <tr>\n",
       "      <th>C</th>\n",
       "      <td>Akash</td>\n",
       "      <td>35</td>\n",
       "      <td>chennai</td>\n",
       "    </tr>\n",
       "    <tr>\n",
       "      <th>D</th>\n",
       "      <td>Anvi</td>\n",
       "      <td>40</td>\n",
       "      <td>Mumbai</td>\n",
       "    </tr>\n",
       "  </tbody>\n",
       "</table>\n",
       "</div>"
      ],
      "text/plain": [
       "     Names  Age     City\n",
       "B  Avinash   30      blr\n",
       "C    Akash   35  chennai\n",
       "D     Anvi   40   Mumbai"
      ]
     },
     "execution_count": 39,
     "metadata": {},
     "output_type": "execute_result"
    }
   ],
   "source": [
    "df"
   ]
  },
  {
   "cell_type": "markdown",
   "id": "ab915b10-1623-490c-8780-6a2c54b86d00",
   "metadata": {},
   "source": [
    "$Step-11$: \n",
    "\n",
    "**How to save the data frame**\n",
    "\n",
    "- Generally data frames are 2 types\n",
    "\n",
    "- csv (comma separated values)\n",
    "\n",
    "- excel"
   ]
  },
  {
   "cell_type": "code",
   "execution_count": 48,
   "id": "cd6745be-c43d-4be1-904b-4f0fdcc2fbd6",
   "metadata": {},
   "outputs": [],
   "source": [
    "df.to_csv('csvFileData.csv') # saving data in csv with index"
   ]
  },
  {
   "cell_type": "code",
   "execution_count": 49,
   "id": "36609cb1-0cba-4f92-a050-ae6a9fc96c0b",
   "metadata": {},
   "outputs": [],
   "source": [
    "df.to_csv('csvFileWithoutIndex.csv',index=False) # saving data in csv without index"
   ]
  },
  {
   "cell_type": "code",
   "execution_count": 47,
   "id": "fdd3801d-8e0f-40df-8f43-dd9bfb74c0ad",
   "metadata": {},
   "outputs": [],
   "source": [
    "df.to_excel('excelFileData.xlsx') #  saving data in excel with index"
   ]
  },
  {
   "cell_type": "code",
   "execution_count": 44,
   "id": "39715d18-2582-41a0-9d93-e82ec0088d3e",
   "metadata": {},
   "outputs": [],
   "source": [
    "df.to_excel('excelFileWithOutIndex.xlsx',index=False) #  saving data in excel without index"
   ]
  },
  {
   "cell_type": "code",
   "execution_count": null,
   "id": "dc073eb6-a87a-4a32-b7e0-5684dbb9e84c",
   "metadata": {},
   "outputs": [],
   "source": []
  }
 ],
 "metadata": {
  "kernelspec": {
   "display_name": "Python 3 (ipykernel)",
   "language": "python",
   "name": "python3"
  },
  "language_info": {
   "codemirror_mode": {
    "name": "ipython",
    "version": 3
   },
   "file_extension": ".py",
   "mimetype": "text/x-python",
   "name": "python",
   "nbconvert_exporter": "python",
   "pygments_lexer": "ipython3",
   "version": "3.11.7"
  }
 },
 "nbformat": 4,
 "nbformat_minor": 5
}
